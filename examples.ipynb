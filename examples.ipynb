{
 "cells": [
  {
   "cell_type": "code",
   "execution_count": null,
   "metadata": {},
   "outputs": [],
   "source": [
    "import xlwings as xw\n",
    "import pandas as pd\n",
    "\n",
    "wb=xw.Book('Hel.xlsx')\n",
    "data_excel = wb.sheets['fir']\n",
    "data_pd = data_excel.range('A1:AM29').options(pd.DataFrame, header = 1, index = False).value\n",
    "print(data_pd.columns)"
   ]
  },
  {
   "cell_type": "code",
   "execution_count": null,
   "metadata": {},
   "outputs": [],
   "source": [
    "import pandas as pd\n",
    "import openpyxl\n",
    "\n",
    "# читаем excel-файл\n",
    "#wb = openpyxl.load_workbook('ff.xlsx')\n",
    "df = pd.read_excel('ff.xlsx')\n",
    "#sheet = wb['user']\n",
    "#vals = [v[1].value for v in sheet]\n",
    "df.drop('Age', axis=1, inplace=True)\n",
    "df.to_excel('ff.xlsx')\n",
    "#df.save('ff.xlsx')"
   ]
  },
  {
   "cell_type": "code",
   "execution_count": null,
   "metadata": {},
   "outputs": [],
   "source": [
    "import pandas as pd\n",
    "import openpyxl\n",
    "\n",
    "df = pd.read_excel('f.xlsx')\n",
    "df.drop('.....', axis=1, inplace=True)\n",
    "df.drop('.....', axis=1, inplace=True)\n",
    "df.drop('.....', axis=1, inplace=True)\n",
    "df.drop('.....', axis=1, inplace=True)\n",
    "df.drop('......', axis=1, inplace=True)\n",
    "df.drop('......', axis=1, inplace=True)\n",
    "df.drop('......', axis=1, inplace=True)\n",
    "df.drop('......', axis=1, inplace=True)\n",
    "df.drop('......', axis=1, inplace=True)\n",
    "df.drop('......', axis=1, inplace=True)\n",
    "df.drop('......', axis=1, inplace=True)\n",
    "df.drop('......', axis=1, inplace=True)\n",
    "df.drop('......', axis=1, inplace=True)\n",
    "df.drop('......', axis=1, inplace=True)\n",
    "df.drop('......', axis=1, inplace=True)\n",
    "df.drop('......', axis=1, inplace=True)\n",
    "df.drop('......', axis=1, inplace=True)\n",
    "df.drop('......', axis=1, inplace=True)\n",
    "df.drop('......', axis=1, inplace=True)\n",
    "df.drop('......', axis=1, inplace=True)\n",
    "df.drop('......', axis=1, inplace=True)\n",
    "df.drop('......', axis=1, inplace=True)\n",
    "df.drop('......', axis=1, inplace=True)\n",
    "df.drop('......', axis=1, inplace=True)\n",
    "df.drop('......', axis=1, inplace=True)\n",
    "df.drop('.....', axis=1, inplace=True)\n",
    "df.drop('.....', axis=1, inplace=True)\n",
    "df.drop('......', axis=1, inplace=True)\n",
    "df.drop('....', axis=1, inplace=True)\n",
    "df.drop('......', axis=1, inplace=True)\n",
    "df.drop('......', axis=1, inplace=True)\n",
    "df.drop('.....', axis=1, inplace=True)\n",
    "df.drop('.....', axis=1, inplace=True)\n",
    "df.drop('....', axis=1, inplace=True)\n",
    "df.to_excel('f.xlsx')"
   ]
  },
  {
   "cell_type": "code",
   "execution_count": null,
   "metadata": {},
   "outputs": [],
   "source": [
    "import pandas as pd\n",
    "import styleframe\n",
    "\n",
    "df = pd.read_excel('f.xlsx')\n",
    "sf = StyleFrame(df)\n",
    "style = Styler(bg_color='green') \n",
    "a = df['Fra'].tolist()\n",
    "for i in a:\n",
    "    if i<-80:\n",
    "        sf.apply_style_by_indexes(sf.loc[sf['col_name']== col_name ], cols_to_style=col_name,\n",
    "                          styler_obj=style)\n",
    "sf.to_excel('test.xlsx').save()\n",
    "\n",
    "#print(a)\n"
   ]
  },
  {
   "cell_type": "code",
   "execution_count": null,
   "metadata": {},
   "outputs": [],
   "source": [
    "from styleframe import StyleFrame, Styler\n",
    "import pandas as pd\n",
    "\n",
    "df = pd.read_excel('f.xlsx')\n",
    "sf = StyleFrame(df)\n",
    "sf.apply_style_by_indexes( indexes_to_style=sf[sf['Fra'] <-80], cols_to_style=['Fraud Score'], styler_obj=Styler(bg_color='red'))\n",
    "sf.to_excel('f.xlsx').save()"
   ]
  },
  {
   "cell_type": "code",
   "execution_count": null,
   "metadata": {},
   "outputs": [],
   "source": [
    "import pandas as pd\n",
    "df = {\n",
    "    'country': ['Kazakhstan', 'Russia', 'Belarus', 'Ukraine'],\n",
    "    'population': [17.04, 143.5, 9.5, 45.5],\n",
    "    'square': [2724902, 17125191, 207600, 603628]\n",
    "}\n",
    "indexes = [100,101,102,103]\n",
    "tt= pd.DataFrame(data = df, index = indexes)\n",
    "tt.index.name ='Bra'\n",
    "tt['density'] = tt['population'] / tt['square'] * 1000000\n",
    "del tt['density']\n",
    "tt.reset_index()\n",
    "tt = tt.rename(columns={'country': 'Country'})\n",
    "tt.to_csv('fi.csv')"
   ]
  },
  {
   "cell_type": "code",
   "execution_count": null,
   "metadata": {},
   "outputs": [],
   "source": [
    "import pandas as pd \n",
    "import datetime\n",
    "a = pd.read_csv('test_data.csv', sep=';')\n",
    "a['timestamp'] = pd.to_datetime(a['timestamp'], unit='ms')\n",
    "#for i in a['timestamp']:\n",
    "#    your_dt = datetime.datetime.fromtimestamp(int(i)/1000)  # using the local timezone\n",
    " #   your_dt.strftime(\"%Y-%m-%d %H:%M:%S\")\n",
    "ad = a.groupby(['source','clientId'])['timestamp'].min()\n",
    "ad.to_csv('ch.csv')"
   ]
  },
  {
   "cell_type": "code",
   "execution_count": null,
   "metadata": {},
   "outputs": [],
   "source": []
  }
 ],
 "metadata": {
  "kernelspec": {
   "display_name": "Python 3",
   "language": "python",
   "name": "python3"
  },
  "language_info": {
   "codemirror_mode": {
    "name": "ipython",
    "version": 3
   },
   "file_extension": ".py",
   "mimetype": "text/x-python",
   "name": "python",
   "nbconvert_exporter": "python",
   "pygments_lexer": "ipython3",
   "version": "3.7.6"
  }
 },
 "nbformat": 4,
 "nbformat_minor": 4
}
